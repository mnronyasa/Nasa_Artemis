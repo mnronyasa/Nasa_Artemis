{
  "nbformat": 4,
  "nbformat_minor": 0,
  "metadata": {
    "colab": {
      "provenance": []
    },
    "kernelspec": {
      "name": "python3",
      "display_name": "Python 3"
    },
    "language_info": {
      "name": "python"
    },
    "accelerator": "GPU",
    "gpuClass": "standard"
  },
  "cells": [
    {
      "cell_type": "code",
      "execution_count": null,
      "metadata": {
        "id": "7t1OF-YP0DJy"
      },
      "outputs": [],
      "source": [
        "import os\n",
        "import pandas as pd\n",
        "import numpy as np\n",
        "import seaborn as sns\n",
        "import matplotlib.pyplot as plt\n",
        "from matplotlib.image import imread\n",
        "import glob\n",
        "import imgaug.augmenters as iaa\n",
        "import shutil"
      ]
    },
    {
      "cell_type": "code",
      "source": [
        "from google.colab import drive\n",
        "drive.mount('/content/drive')"
      ],
      "metadata": {
        "colab": {
          "base_uri": "https://localhost:8080/"
        },
        "id": "z2OZzpD50PcF",
        "outputId": "52bff666-e2a2-4388-ff3c-7829d2ba83cf"
      },
      "execution_count": null,
      "outputs": [
        {
          "output_type": "stream",
          "name": "stdout",
          "text": [
            "Mounted at /content/drive\n"
          ]
        }
      ]
    },
    {
      "cell_type": "code",
      "source": [
        "archive_name = 'Nasa_Artemis.zip'\n",
        "archive_path = '/content/drive/MyDrive/Nasa_Artemis.zip'\n",
        "\n",
        "shutil.copy(archive_path, '.')\n",
        "\n",
        "!7z x {archive_name}\n",
        "\n",
        "data_path = '/content/Nasa_Artemis'\n",
        "print('\\nArchive extracted to VM\\n')\n",
        "print('-------------------------------------------------------------------------------------\\n')\n",
        "data_express_mode = True"
      ],
      "metadata": {
        "colab": {
          "base_uri": "https://localhost:8080/"
        },
        "id": "bIa5H9u_0bqU",
        "outputId": "dc60b6eb-f66a-480c-b838-ed03f452ccb5"
      },
      "execution_count": null,
      "outputs": [
        {
          "output_type": "stream",
          "name": "stdout",
          "text": [
            "\n",
            "7-Zip [64] 16.02 : Copyright (c) 1999-2016 Igor Pavlov : 2016-05-21\n",
            "p7zip Version 16.02 (locale=en_US.UTF-8,Utf16=on,HugeFiles=on,64 bits,2 CPUs Intel(R) Xeon(R) CPU @ 2.00GHz (50653),ASM,AES-NI)\n",
            "\n",
            "Scanning the drive for archives:\n",
            "  0M Scan\b\b\b\b\b\b\b\b\b         \b\b\b\b\b\b\b\b\b1 file, 151498006 bytes (145 MiB)\n",
            "\n",
            "Extracting archive: Nasa_Artemis.zip\n",
            "--\n",
            "Path = Nasa_Artemis.zip\n",
            "Type = zip\n",
            "Physical Size = 151498006\n",
            "\n",
            "  0%\b\b\b\b    \b\b\b\b 17% 67 - Nasa_Artemis/Jessica_Meir/NASA Astronaut Jessica Meir - Seat of.png\b\b\b\b\b\b\b\b\b\b\b\b\b\b\b\b\b\b\b\b\b\b\b\b\b\b\b\b\b\b\b\b\b\b\b\b\b\b\b\b\b\b\b\b\b\b\b\b\b\b\b\b\b\b\b\b\b\b\b\b\b\b\b\b\b\b\b\b\b\b\b\b\b\b\b\b\b                                                                             \b\b\b\b\b\b\b\b\b\b\b\b\b\b\b\b\b\b\b\b\b\b\b\b\b\b\b\b\b\b\b\b\b\b\b\b\b\b\b\b\b\b\b\b\b\b\b\b\b\b\b\b\b\b\b\b\b\b\b\b\b\b\b\b\b\b\b\b\b\b\b\b\b\b\b\b\b 35% 153 - Nasa_Artemis/Jessica_Meir/File_Jessica Meir portrait in a WB-57.jpg\b\b\b\b\b\b\b\b\b\b\b\b\b\b\b\b\b\b\b\b\b\b\b\b\b\b\b\b\b\b\b\b\b\b\b\b\b\b\b\b\b\b\b\b\b\b\b\b\b\b\b\b\b\b\b\b\b\b\b\b\b\b\b\b\b\b\b\b\b\b\b\b\b\b\b\b\b\b                                                                              \b\b\b\b\b\b\b\b\b\b\b\b\b\b\b\b\b\b\b\b\b\b\b\b\b\b\b\b\b\b\b\b\b\b\b\b\b\b\b\b\b\b\b\b\b\b\b\b\b\b\b\b\b\b\b\b\b\b\b\b\b\b\b\b\b\b\b\b\b\b\b\b\b\b\b\b\b\b 48% 217 - Nasa_Artemis/Scott_Tingle/File_ISS-55 Scott Tingle works inside.jpg\b\b\b\b\b\b\b\b\b\b\b\b\b\b\b\b\b\b\b\b\b\b\b\b\b\b\b\b\b\b\b\b\b\b\b\b\b\b\b\b\b\b\b\b\b\b\b\b\b\b\b\b\b\b\b\b\b\b\b\b\b\b\b\b\b\b\b\b\b\b\b\b\b\b\b\b\b\b                                                                              \b\b\b\b\b\b\b\b\b\b\b\b\b\b\b\b\b\b\b\b\b\b\b\b\b\b\b\b\b\b\b\b\b\b\b\b\b\b\b\b\b\b\b\b\b\b\b\b\b\b\b\b\b\b\b\b\b\b\b\b\b\b\b\b\b\b\b\b\b\b\b\b\b\b\b\b\b\b 59% 265 - Nasa_Artemis/Scott_Tingle/Mass. native is back on Earth.jpg\b\b\b\b\b\b\b\b\b\b\b\b\b\b\b\b\b\b\b\b\b\b\b\b\b\b\b\b\b\b\b\b\b\b\b\b\b\b\b\b\b\b\b\b\b\b\b\b\b\b\b\b\b\b\b\b\b\b\b\b\b\b\b\b\b\b\b\b\b\b                                                                      \b\b\b\b\b\b\b\b\b\b\b\b\b\b\b\b\b\b\b\b\b\b\b\b\b\b\b\b\b\b\b\b\b\b\b\b\b\b\b\b\b\b\b\b\b\b\b\b\b\b\b\b\b\b\b\b\b\b\b\b\b\b\b\b\b\b\b\b\b\b 73% 415 - Nasa_Artemis/Raja_Chari/File_SpaceX Crew-3 Commander Raja Chari.jpg\b\b\b\b\b\b\b\b\b\b\b\b\b\b\b\b\b\b\b\b\b\b\b\b\b\b\b\b\b\b\b\b\b\b\b\b\b\b\b\b\b\b\b\b\b\b\b\b\b\b\b\b\b\b\b\b\b\b\b\b\b\b\b\b\b\b\b\b\b\b\b\b\b\b\b\b\b\b                                                                              \b\b\b\b\b\b\b\b\b\b\b\b\b\b\b\b\b\b\b\b\b\b\b\b\b\b\b\b\b\b\b\b\b\b\b\b\b\b\b\b\b\b\b\b\b\b\b\b\b\b\b\b\b\b\b\b\b\b\b\b\b\b\b\b\b\b\b\b\b\b\b\b\b\b\b\b\b\b 86% 551 - Nasa_Artemis/Joseph_Acaba/Joe acaba High Resolution Stock (1).jpg\b\b\b\b\b\b\b\b\b\b\b\b\b\b\b\b\b\b\b\b\b\b\b\b\b\b\b\b\b\b\b\b\b\b\b\b\b\b\b\b\b\b\b\b\b\b\b\b\b\b\b\b\b\b\b\b\b\b\b\b\b\b\b\b\b\b\b\b\b\b\b\b\b\b\b\b                                                                            \b\b\b\b\b\b\b\b\b\b\b\b\b\b\b\b\b\b\b\b\b\b\b\b\b\b\b\b\b\b\b\b\b\b\b\b\b\b\b\b\b\b\b\b\b\b\b\b\b\b\b\b\b\b\b\b\b\b\b\b\b\b\b\b\b\b\b\b\b\b\b\b\b\b\b\bEverything is Ok\n",
            "\n",
            "Folders: 5\n",
            "Files: 604\n",
            "Size:       156956722\n",
            "Compressed: 151498006\n",
            "\n",
            "Archive extracted to VM\n",
            "\n",
            "-------------------------------------------------------------------------------------\n",
            "\n"
          ]
        }
      ]
    },
    {
      "cell_type": "code",
      "source": [
        "data_path"
      ],
      "metadata": {
        "colab": {
          "base_uri": "https://localhost:8080/",
          "height": 35
        },
        "id": "MwOs7NssTZEp",
        "outputId": "8a2225d9-722b-4f12-c3f1-502d1a895d62"
      },
      "execution_count": null,
      "outputs": [
        {
          "output_type": "execute_result",
          "data": {
            "text/plain": [
              "'/content/Nasa_Artemis'"
            ],
            "application/vnd.google.colaboratory.intrinsic+json": {
              "type": "string"
            }
          },
          "metadata": {},
          "execution_count": 5
        }
      ]
    },
    {
      "cell_type": "code",
      "source": [
        "all_image_urls = []\n",
        "all_image_categories = []\n",
        "for category in os.listdir(data_path):\n",
        "  if category == '.DS_Store':\n",
        "    continue\n",
        "  category_path = os.path.join(data_path,category)\n",
        "  for image_url in os.listdir(category_path):\n",
        "    if image_url == '.DS_Store':\n",
        "      continue\n",
        "    all_image_urls.append(os.path.join(category_path,image_url))\n",
        "    all_image_categories.append(category)\n",
        "\n",
        "\n",
        "all_image_urls"
      ],
      "metadata": {
        "colab": {
          "base_uri": "https://localhost:8080/"
        },
        "id": "Gn5A3Q1b0d9e",
        "outputId": "d49529c3-c468-41c5-fd87-b7be49ddc80f"
      },
      "execution_count": null,
      "outputs": [
        {
          "output_type": "execute_result",
          "data": {
            "text/plain": [
              "['/content/Nasa_Artemis/Joseph_Acaba/Joseph M. Acaba on Twitter_ _Q_s about.jpg',\n",
              " '/content/Nasa_Artemis/Joseph_Acaba/Teacher hosts radio show in space.jpeg',\n",
              " '/content/Nasa_Artemis/Joseph_Acaba/Space_ NASA Astronaut Details Flight (1).jpg',\n",
              " '/content/Nasa_Artemis/Joseph_Acaba/Artemis astronaut feature_ Joe Acaba.jpg',\n",
              " '/content/Nasa_Artemis/Joseph_Acaba/Puerto Rican astronaut Joseph AcabaÌ\\x81 (1).jpg',\n",
              " '/content/Nasa_Artemis/Joseph_Acaba/Joseph Acaba _ _ tucson.com.jpg',\n",
              " '/content/Nasa_Artemis/Joseph_Acaba/Astronaut Joseph Michael Acaba.jpg',\n",
              " '/content/Nasa_Artemis/Joseph_Acaba/Joseph Acaba.jpg',\n",
              " '/content/Nasa_Artemis/Joseph_Acaba/Puerto Rican astronaut Joseph AcabaÌ\\x81 (3).jpg',\n",
              " '/content/Nasa_Artemis/Joseph_Acaba/Texas Tech.jpg',\n",
              " '/content/Nasa_Artemis/Joseph_Acaba/Joseph Acaba (4).jpg',\n",
              " '/content/Nasa_Artemis/Joseph_Acaba/File_ISS-31 Joseph Acaba with Robonaut.jpg',\n",
              " '/content/Nasa_Artemis/Joseph_Acaba/Joe Acaba (1).jpg',\n",
              " '/content/Nasa_Artemis/Joseph_Acaba/Joseph Acaba (1).jpg',\n",
              " '/content/Nasa_Artemis/Joseph_Acaba/Acaba Joseph Acaba Science Math Teacher.jpg',\n",
              " '/content/Nasa_Artemis/Joseph_Acaba/File_Astronaut Joseph Michael Acaba.jpg.jpg',\n",
              " '/content/Nasa_Artemis/Joseph_Acaba/Joe acaba High Resolution Stock (1).jpg',\n",
              " '/content/Nasa_Artemis/Joseph_Acaba/Joseph M. Acaba NASA astronaut - Famed.png',\n",
              " '/content/Nasa_Artemis/Joseph_Acaba/Astronaut Sends Prayers to Puerto Rico.jpg',\n",
              " '/content/Nasa_Artemis/Joseph_Acaba/Russian space crew lands safely in.jpg',\n",
              " '/content/Nasa_Artemis/Joseph_Acaba/Five Astronautical Lessons From Joe.png',\n",
              " '/content/Nasa_Artemis/Joseph_Acaba/Joseph M. Acaba - Wikipedia.jpg',\n",
              " '/content/Nasa_Artemis/Joseph_Acaba/Follow Joseph M. Acaba_s (_AstroAcaba.jpeg',\n",
              " '/content/Nasa_Artemis/Joseph_Acaba/Joe Acaba â\\x80\\x93 Spaceflight101.jpg',\n",
              " '/content/Nasa_Artemis/Joseph_Acaba/Joseph Michael _Joe_ Acaba (born May 17.jpg',\n",
              " '/content/Nasa_Artemis/Joseph_Acaba/Space_ NASA Astronaut Details Flight (2).jpg',\n",
              " '/content/Nasa_Artemis/Joseph_Acaba/Joe Acaba Goes from Teacher to.jpg',\n",
              " '/content/Nasa_Artemis/Joseph_Acaba/Astronaut Joseph Acaba Rescinded.jpg',\n",
              " '/content/Nasa_Artemis/Joseph_Acaba/Meet the crew of the shuttle Discovery.jpg',\n",
              " '/content/Nasa_Artemis/Joseph_Acaba/Joseph M. Acaba â\\x80\\x94 Google Arts & Culture.jpg',\n",
              " '/content/Nasa_Artemis/Joseph_Acaba/Astronaut Joe Acaba works on Combustion.jpg',\n",
              " '/content/Nasa_Artemis/Joseph_Acaba/Joseph Acaba _ Astronaut Joseph M. (Joe.jpg',\n",
              " '/content/Nasa_Artemis/Joseph_Acaba/Joseph Acaba - Zimbio.jpg',\n",
              " '/content/Nasa_Artemis/Joseph_Acaba/Joseph Acaba (6).jpg',\n",
              " '/content/Nasa_Artemis/Joseph_Acaba/File_ISS-53 Joseph Acaba works inside (1).jpg',\n",
              " '/content/Nasa_Artemis/Joseph_Acaba/Joe Acaba â\\x80\\x93 Spaceflight101 (3).jpg',\n",
              " '/content/Nasa_Artemis/Joseph_Acaba/Joseph Acaba selected for lunar mission.jpg',\n",
              " '/content/Nasa_Artemis/Joseph_Acaba/NASA Astronaut Joseph Acaba_ Flight (2).jpg',\n",
              " '/content/Nasa_Artemis/Joseph_Acaba/Astronaut Acaba talks space.jpeg',\n",
              " '/content/Nasa_Artemis/Joseph_Acaba/Texas Tech Student_ NASA Astronaut.jpg',\n",
              " '/content/Nasa_Artemis/Joseph_Acaba/Former Melbourne High teacher set for.jpg',\n",
              " '/content/Nasa_Artemis/Joseph_Acaba/Astronaut Joseph Acaba_ Mission.jpg',\n",
              " '/content/Nasa_Artemis/Joseph_Acaba/NASA Astronaut Joseph Acaba.png',\n",
              " '/content/Nasa_Artemis/Joseph_Acaba/Astro Pi anniversary greeting for Columbus.png',\n",
              " '/content/Nasa_Artemis/Joseph_Acaba/Acaba.jpg',\n",
              " '/content/Nasa_Artemis/Joseph_Acaba/Space Station 20th_ Hispanic Heritage.jpg',\n",
              " '/content/Nasa_Artemis/Joseph_Acaba/File_Joseph Acaba.jpg - Wikimedia Commons.jpg',\n",
              " '/content/Nasa_Artemis/Joseph_Acaba/Joe Acaba â\\x80\\x93 Spaceflight101 (2).jpg',\n",
              " '/content/Nasa_Artemis/Joseph_Acaba/Meet Artemis Team Member Joe Acaba.jpg',\n",
              " '/content/Nasa_Artemis/Joseph_Acaba/Artemis moon-landing program.jpg',\n",
              " '/content/Nasa_Artemis/Joseph_Acaba/Joseph Acaba (2).jpg',\n",
              " '/content/Nasa_Artemis/Joseph_Acaba/From Central Florida science teacher to.jpg',\n",
              " '/content/Nasa_Artemis/Joseph_Acaba/File_ISS-53 Joseph Acaba works inside.jpg',\n",
              " '/content/Nasa_Artemis/Joseph_Acaba/NASA - Astronaut Joe Acaba.jpg',\n",
              " '/content/Nasa_Artemis/Joseph_Acaba/90 Joseph Akaba Photos and Premium High.jpg',\n",
              " '/content/Nasa_Artemis/Joseph_Acaba/NASA Astronaut Joe Acaba (1).jpg',\n",
              " '/content/Nasa_Artemis/Joseph_Acaba/National Geographic.jpg',\n",
              " '/content/Nasa_Artemis/Joseph_Acaba/Joseph M. â\\x80\\x9cJoeâ\\x80\\x9d Acaba _ Arizona Alumni.jpg',\n",
              " '/content/Nasa_Artemis/Joseph_Acaba/Army space Soldiers _ Article _ The.jpg',\n",
              " '/content/Nasa_Artemis/Joseph_Acaba/Follow Joseph M. Acaba_s (_AstroAcaba (6).jpg',\n",
              " '/content/Nasa_Artemis/Joseph_Acaba/Joseph AcabaÌ\\x81 _ Ciencia Puerto Rico.jpg',\n",
              " '/content/Nasa_Artemis/Joseph_Acaba/Nasa missions_ Nasa_ Astronaut.jpg',\n",
              " '/content/Nasa_Artemis/Joseph_Acaba/NASA - 2004 Astronaut Class.jpg',\n",
              " '/content/Nasa_Artemis/Joseph_Acaba/NASA astronaut Acaba details ISS flight.jpg',\n",
              " '/content/Nasa_Artemis/Joseph_Acaba/Joseph M. Acaba _ Joseph M. Acaba is.jpg',\n",
              " '/content/Nasa_Artemis/Joseph_Acaba/National Hispanic Heritage Month.jpg',\n",
              " '/content/Nasa_Artemis/Joseph_Acaba/Joe Acaba.jpg',\n",
              " '/content/Nasa_Artemis/Joseph_Acaba/Average Joe_ Astronauts are just normal.jpg',\n",
              " '/content/Nasa_Artemis/Joseph_Acaba/90 Joseph Akaba Photos and Premium High (1).jpg',\n",
              " '/content/Nasa_Artemis/Joseph_Acaba/UC Santa Barbara Alumni.jpg',\n",
              " '/content/Nasa_Artemis/Joseph_Acaba/Joe Acaba_ NASA Astronaut _ My Path.png',\n",
              " '/content/Nasa_Artemis/Joseph_Acaba/la Luna.jpg',\n",
              " '/content/Nasa_Artemis/Joseph_Acaba/NASA Astronauts Have Spent in Space_ Ranked.jpg',\n",
              " '/content/Nasa_Artemis/Joseph_Acaba/Astronaut Joe Acaba Assists.jpg',\n",
              " '/content/Nasa_Artemis/Joseph_Acaba/198 Joseph Acaba Photos and Premium (3).jpg',\n",
              " '/content/Nasa_Artemis/Scott_Tingle/Space Station Science Highlights_ Week.jpg',\n",
              " '/content/Nasa_Artemis/Scott_Tingle/Astronauts Scott Tingle and Mark Vande.jpg',\n",
              " '/content/Nasa_Artemis/Scott_Tingle/2009 NASA Astronaut Scott Tingle 8x10.png',\n",
              " '/content/Nasa_Artemis/Scott_Tingle/Mass. native is back on Earth.jpg',\n",
              " '/content/Nasa_Artemis/Scott_Tingle/Scott tingle hi-res stock photography (2).jpg',\n",
              " '/content/Nasa_Artemis/Scott_Tingle/NASA astronaut.jpeg',\n",
              " '/content/Nasa_Artemis/Scott_Tingle/Scott Tingle (1).jpg',\n",
              " '/content/Nasa_Artemis/Scott_Tingle/USA NASA astronaut Scott Tingle plays.jpg',\n",
              " '/content/Nasa_Artemis/Scott_Tingle/Artemis Team Member Scott Tingle.jpg',\n",
              " '/content/Nasa_Artemis/Scott_Tingle/First Spacewalk of 2018 completed.jpg',\n",
              " '/content/Nasa_Artemis/Scott_Tingle/NASA_ The Artemis Team.jpg',\n",
              " '/content/Nasa_Artemis/Scott_Tingle/An astronaut in Annapolis_ Scott Tingle (7).jpg',\n",
              " '/content/Nasa_Artemis/Scott_Tingle/NASA selects _88 Purdue grad as astronaut.jpg',\n",
              " '/content/Nasa_Artemis/Scott_Tingle/Astronauts - Purdue in Space.jpg',\n",
              " '/content/Nasa_Artemis/Scott_Tingle/Astronaut realizing his dream â\\x80\\x93 Boston (2).jpg',\n",
              " '/content/Nasa_Artemis/Scott_Tingle/An astronaut in Annapolis_ Scott Tingle (2).jpg',\n",
              " '/content/Nasa_Artemis/Scott_Tingle/Scott Tingle â\\x80\\x93 Spaceflight101.jpg',\n",
              " '/content/Nasa_Artemis/Scott_Tingle/Three Spacefarers from Three Nations (1).jpg',\n",
              " '/content/Nasa_Artemis/Scott_Tingle/Tingle takes his place among stars.jpeg',\n",
              " '/content/Nasa_Artemis/Scott_Tingle/Astronaut Biography_ Scott Tingle.jpg',\n",
              " '/content/Nasa_Artemis/Scott_Tingle/Expedition 55 Soyuz MS-07 Landing NASA.jpg',\n",
              " '/content/Nasa_Artemis/Scott_Tingle/Scott Tingle becomes Purdue_s 23rd (2).jpg',\n",
              " '/content/Nasa_Artemis/Scott_Tingle/An astronaut in Annapolis_ Scott Tingle (3).jpg',\n",
              " '/content/Nasa_Artemis/Scott_Tingle/Scott tingle hi-res stock photography.jpg',\n",
              " '/content/Nasa_Artemis/Scott_Tingle/UMass Dartmouth grad shares his out of.png',\n",
              " '/content/Nasa_Artemis/Scott_Tingle/Purdue Mechanical Engineering on.jpg',\n",
              " '/content/Nasa_Artemis/Scott_Tingle/An astronaut in Annapolis_ Scott Tingle.jpg',\n",
              " '/content/Nasa_Artemis/Scott_Tingle/Scott D. Tingle - Wikipedia.jpg',\n",
              " '/content/Nasa_Artemis/Scott_Tingle/Scott Tingle â\\x80\\x93 Space Station.jpg',\n",
              " '/content/Nasa_Artemis/Scott_Tingle/Astronaut realizing his dream â\\x80\\x93 Boston (1).jpg',\n",
              " '/content/Nasa_Artemis/Scott_Tingle/File_ISS-55 Scott Tingle inside the.jpg',\n",
              " '/content/Nasa_Artemis/Scott_Tingle/UMass Dartmouth alum heading for.jpeg',\n",
              " '/content/Nasa_Artemis/Scott_Tingle/Scott D Tingle. Astronaut - Album on Imgur.jpg',\n",
              " '/content/Nasa_Artemis/Scott_Tingle/Blue Hills alum astronaut visits Blue Hills.jpeg',\n",
              " '/content/Nasa_Artemis/Scott_Tingle/STEMonstration 6_ Orbits.jpg',\n",
              " '/content/Nasa_Artemis/Scott_Tingle/NASA astronaut Scott Tingle wears a U.S.jpg',\n",
              " '/content/Nasa_Artemis/Scott_Tingle/Music in a Vacuum with Astronaut Scott.jpg',\n",
              " '/content/Nasa_Artemis/Scott_Tingle/Astronaut Moments_ Scott Tingle (1).jpg',\n",
              " '/content/Nasa_Artemis/Scott_Tingle/Moon With NASA â\\x80\\x93 NBC Boston.jpg',\n",
              " '/content/Nasa_Artemis/Scott_Tingle/Randolph native Scott Tingle_ an.jpg',\n",
              " '/content/Nasa_Artemis/Scott_Tingle/File_ISS-55 Scott Tingle tends to.jpg',\n",
              " '/content/Nasa_Artemis/Scott_Tingle/342 Scott Tingle Photos and Premium (2).jpg',\n",
              " '/content/Nasa_Artemis/Scott_Tingle/NASA astronaut Scott Tingle works.jpg',\n",
              " '/content/Nasa_Artemis/Scott_Tingle/Scott D. Tingle _ National Aeronautics.jpg',\n",
              " '/content/Nasa_Artemis/Scott_Tingle/File_ISS-54 Alexander Misurkin welcomes.jpg',\n",
              " '/content/Nasa_Artemis/Scott_Tingle/File_ISS-55 Scott Tingle works inside.jpg',\n",
              " '/content/Nasa_Artemis/Scott_Tingle/Tingle.jpg',\n",
              " '/content/Nasa_Artemis/Scott_Tingle/Scott Tingle becomes Purdue_s 23rd (3).jpg',\n",
              " '/content/Nasa_Artemis/Scott_Tingle/Our People - Purdue Engineering.jpg',\n",
              " '/content/Nasa_Artemis/Scott_Tingle/Randolph Native Heads To International.jpg',\n",
              " '/content/Nasa_Artemis/Scott_Tingle/Scott D. Tingle (Captain_ U.S. Navy.jpg',\n",
              " '/content/Nasa_Artemis/Scott_Tingle/Scott D. Tingle - Chief Astronaut _ NASA.jpg',\n",
              " '/content/Nasa_Artemis/Scott_Tingle/Scott Tingle Becomes Purdue_s 23rd (5).jpg',\n",
              " '/content/Nasa_Artemis/Scott_Tingle/File_ISS-55 Scott Tingle works with the.jpg',\n",
              " '/content/Nasa_Artemis/Scott_Tingle/Artemis astronaut feature_ Scott Tingle.jpg',\n",
              " '/content/Nasa_Artemis/Scott_Tingle/NASA astronaut Scott Tingle.jpg',\n",
              " '/content/Nasa_Artemis/Scott_Tingle/Scott Tingle_ Learning from Failure.png',\n",
              " '/content/Nasa_Artemis/Scott_Tingle/NASA astronaut Scott Tingle prepares.jpg',\n",
              " '/content/Nasa_Artemis/Scott_Tingle/Scott Tingle - Deputy Director (acting.jpg',\n",
              " '/content/Nasa_Artemis/Scott_Tingle/President - Purdue University.jpg',\n",
              " '/content/Nasa_Artemis/Scott_Tingle/Purdue_s 23rd astronaut set for launch.jpg',\n",
              " '/content/Nasa_Artemis/Scott_Tingle/Purdue graduate Tingle to join space.jpg',\n",
              " '/content/Nasa_Artemis/Scott_Tingle/Astronaut at a Glance_ Scott Tingle.jpg',\n",
              " '/content/Nasa_Artemis/Scott_Tingle/File_ISS-55 Ricky Arnold and Scott.jpg',\n",
              " '/content/Nasa_Artemis/Scott_Tingle/Astronaut Scott Tingle to Visit NASA.jpg',\n",
              " '/content/Nasa_Artemis/Scott_Tingle/Astronaut Scott Tingle watches the.jpg',\n",
              " '/content/Nasa_Artemis/Scott_Tingle/NASA astronaut Scott Tingle performs.jpg',\n",
              " '/content/Nasa_Artemis/Scott_Tingle/spacesuit work in the Quest airlock.jpg.jpg',\n",
              " '/content/Nasa_Artemis/Scott_Tingle/An astronaut in Annapolis_ Scott Tingle (1).jpg',\n",
              " '/content/Nasa_Artemis/Scott_Tingle/UMass Dartmouth grad shares his out of.jpg',\n",
              " '/content/Nasa_Artemis/Scott_Tingle/Astronaut Scott Tingle to visit UMass.jpeg',\n",
              " '/content/Nasa_Artemis/Scott_Tingle/Purdue Today - November 29_ 2017.jpg',\n",
              " '/content/Nasa_Artemis/Scott_Tingle/NASA_ Space Station Partners Announce.jpg',\n",
              " '/content/Nasa_Artemis/Scott_Tingle/Purdue astronaut_s launch playlist_ The.jpg',\n",
              " '/content/Nasa_Artemis/Raja_Chari/Iowa astronaut Raja Chari used space.jpg',\n",
              " '/content/Nasa_Artemis/Raja_Chari/NASA Administrator at Stennis Space.jpg',\n",
              " '/content/Nasa_Artemis/Raja_Chari/NASA Astronaut Candidates.jpg',\n",
              " '/content/Nasa_Artemis/Raja_Chari/Category_Raja Chari - Wikimedia Commons.jpg',\n",
              " '/content/Nasa_Artemis/Raja_Chari/manned Moon mission.jpg',\n",
              " '/content/Nasa_Artemis/Raja_Chari/Indian-American astronaut Raja Chari (5).jpg',\n",
              " '/content/Nasa_Artemis/Raja_Chari/Indian-American astronaut Raja Chari (2).jpg',\n",
              " '/content/Nasa_Artemis/Raja_Chari/Raja Chari Wiki_ Height_ Age_ Wife (3).jpg',\n",
              " '/content/Nasa_Artemis/Raja_Chari/All We Know About Raja Chari_ The Only.jpeg',\n",
              " '/content/Nasa_Artemis/Raja_Chari/Raja Chari (_Astro_Raja)   Twitter (2).jpg',\n",
              " '/content/Nasa_Artemis/Raja_Chari/Alum Raja Chari speaks to students - St.jpeg',\n",
              " '/content/Nasa_Artemis/Raja_Chari/NASA picked Indian-American Raja Chari.jpg',\n",
              " '/content/Nasa_Artemis/Raja_Chari/Raja Jon Vurputoor Chari_ Here_s.webp',\n",
              " '/content/Nasa_Artemis/Raja_Chari/Raja Chari talks Iowa roots_ NASA.jpg',\n",
              " '/content/Nasa_Artemis/Raja_Chari/NASA astronaut Raja Chari (2).jpg',\n",
              " '/content/Nasa_Artemis/Raja_Chari/NASA for Artemis Moon Missions (2).jpg',\n",
              " '/content/Nasa_Artemis/Raja_Chari/Centrifuge graduates 30_000th student.jpeg',\n",
              " '/content/Nasa_Artemis/Raja_Chari/Indian-American Raja Chari Selected for.jpg',\n",
              " '/content/Nasa_Artemis/Raja_Chari/SpaceX rocket. Spacex nasa launch.jpg',\n",
              " '/content/Nasa_Artemis/Raja_Chari/chari_ Meet Raja Chari_ who returns to.webp',\n",
              " '/content/Nasa_Artemis/Raja_Chari/Meet Raja Chari_ An Indian-Origin NASA (1).jpg',\n",
              " '/content/Nasa_Artemis/Raja_Chari/Raja Chari - Wikipedia.jpg',\n",
              " '/content/Nasa_Artemis/Raja_Chari/Raja Chari Twitter Followers Statistics.jpg',\n",
              " '/content/Nasa_Artemis/Raja_Chari/NASA astronaut Raja Chari _ NASA.jpg',\n",
              " '/content/Nasa_Artemis/Raja_Chari/Meet Raja Chari_ An Indian-Origin NASA.jpg',\n",
              " '/content/Nasa_Artemis/Raja_Chari/Astronaut Raja Chari to return home.webp',\n",
              " '/content/Nasa_Artemis/Raja_Chari/Raja Chari NASA Astronaut _ NASA.jpg',\n",
              " '/content/Nasa_Artemis/Raja_Chari/Raja Chari to lead SpaceX mission to.jpg',\n",
              " '/content/Nasa_Artemis/Raja_Chari/Eastern Iowa native Raja Chari picked.jpg',\n",
              " '/content/Nasa_Artemis/Raja_Chari/Eastern Iowa native heading to space _ KGAN.jpg',\n",
              " '/content/Nasa_Artemis/Raja_Chari/NASA for Artemis Moon missions (1).jpg',\n",
              " '/content/Nasa_Artemis/Raja_Chari/Indian-American Raja Chari among 12 new.png',\n",
              " '/content/Nasa_Artemis/Raja_Chari/Explained_ Who is Raja Chari_ the.jpg',\n",
              " '/content/Nasa_Artemis/Raja_Chari/conduct space station housekeeping.jpeg',\n",
              " '/content/Nasa_Artemis/Raja_Chari/SpaceX-Crew-3 in NASA_s Moon mission.jpg',\n",
              " '/content/Nasa_Artemis/Raja_Chari/NASA astronaut Raja Chari performs.jpg',\n",
              " '/content/Nasa_Artemis/Raja_Chari/Indian American Astronaut Raja Chari.jpeg',\n",
              " '/content/Nasa_Artemis/Raja_Chari/Indian-American astronaut Raja Chari (7).jpg',\n",
              " '/content/Nasa_Artemis/Raja_Chari/Indian-American.jpg',\n",
              " '/content/Nasa_Artemis/Raja_Chari/File_SpaceX Crew-3 Commander Raja Chari.jpg',\n",
              " '/content/Nasa_Artemis/Raja_Chari/Indian American astronaut Raja Chari (5).jpg',\n",
              " '/content/Nasa_Artemis/Raja_Chari/Raja Chari_ The only Indian origin.jpg',\n",
              " '/content/Nasa_Artemis/Raja_Chari/NASA Astronaut Raja Chari addresses the.jpg',\n",
              " '/content/Nasa_Artemis/Raja_Chari/ESA - Raja Chari and Grip.jpg',\n",
              " '/content/Nasa_Artemis/Raja_Chari/Astronaut Raja Chari Takes His First.jpg',\n",
              " '/content/Nasa_Artemis/Raja_Chari/US Air Force Academy AOG & Foundation.jpg',\n",
              " '/content/Nasa_Artemis/Raja_Chari/Astronaut Raja Chari _ NASA.jpg',\n",
              " '/content/Nasa_Artemis/Raja_Chari/Raja Chari Wiki_ Height_ Age_ Wife (1).jpg',\n",
              " '/content/Nasa_Artemis/Raja_Chari/Raja Jon Vurputoor Chari_ Raja Chari.jpg',\n",
              " '/content/Nasa_Artemis/Raja_Chari/Indian American astronaut Raja Chari (1).webp',\n",
              " '/content/Nasa_Artemis/Raja_Chari/Indian American astronaut Raja Chari (2).jpg',\n",
              " '/content/Nasa_Artemis/Raja_Chari/NASA_s Moon Mission_ Indian-origin Raja.png',\n",
              " '/content/Nasa_Artemis/Raja_Chari/Indian-American Raja Chari among 18.jpg',\n",
              " '/content/Nasa_Artemis/Raja_Chari/NASA astronaut Raja Chari (1).jpg',\n",
              " '/content/Nasa_Artemis/Raja_Chari/Cedar Valley astronaut Raja Chari.jpg',\n",
              " '/content/Nasa_Artemis/Raja_Chari/Indian American astronaut Raja Chari.webp',\n",
              " '/content/Nasa_Artemis/Raja_Chari/Astronaut Raja Chari_ Christmas_ New.webp',\n",
              " '/content/Nasa_Artemis/Raja_Chari/Crew-3 Mission to the Space Station.jpg',\n",
              " '/content/Nasa_Artemis/Raja_Chari/Raja Chari (_Astro_Raja)   Twitter.jpg',\n",
              " '/content/Nasa_Artemis/Raja_Chari/Meet Raja Chari_ the Indian-origin NASA.jpg',\n",
              " '/content/Nasa_Artemis/Raja_Chari/Indian-American Raja Chari among 18 (1).jpg',\n",
              " '/content/Nasa_Artemis/Raja_Chari/Indian-American astronaut Raja Chari (1).jpg',\n",
              " '/content/Nasa_Artemis/Raja_Chari/Raja Chari.jpg',\n",
              " '/content/Nasa_Artemis/Raja_Chari/Raja Chari is the first rookie.jpg',\n",
              " '/content/Nasa_Artemis/Raja_Chari/WATCH_ NASA Astronaut_ Cedar Falls.jpg',\n",
              " '/content/Nasa_Artemis/Raja_Chari/NASA Commander Raja Chari.jpg',\n",
              " '/content/Nasa_Artemis/Raja_Chari/NASA for its 2024 Moon mission.jpg',\n",
              " '/content/Nasa_Artemis/Raja_Chari/Indian-American Raja Chari NASA_s new.jpg',\n",
              " '/content/Nasa_Artemis/Raja_Chari/Indian-American NASA astronaut.jpg',\n",
              " '/content/Nasa_Artemis/Raja_Chari/Lt. Col. Raja Chari Talks About the Way.jpg',\n",
              " '/content/Nasa_Artemis/Raja_Chari/NASA for Artemis Moon missions.jpg',\n",
              " '/content/Nasa_Artemis/Raja_Chari/Alum Raja Chari speaks to students - St (1).jpeg',\n",
              " '/content/Nasa_Artemis/Raja_Chari/Raja Chari on Twitter_ _Back to school.jpg_large',\n",
              " '/content/Nasa_Artemis/Raja_Chari/Indian-American astronaut Raja Chari.jpg',\n",
              " '/content/Nasa_Artemis/Jessica_Meir/Jessica Meir astronaut candidate.jpg.jpg',\n",
              " '/content/Nasa_Artemis/Jessica_Meir/NASA astronaut Jessica Meir visits.jpg',\n",
              " '/content/Nasa_Artemis/Jessica_Meir/Astronaut Jessica Meir reflects on.jpg',\n",
              " '/content/Nasa_Artemis/Jessica_Meir/female astronaut Jessica Meir about space.jpg',\n",
              " '/content/Nasa_Artemis/Jessica_Meir/NASA Astronaut Jessica Meir discusses.jpg',\n",
              " '/content/Nasa_Artemis/Jessica_Meir/Watch how astronaut Jessica Meir_ the.png',\n",
              " '/content/Nasa_Artemis/Jessica_Meir/fearless Jewish astronaut Jessica Meir.jpg',\n",
              " '/content/Nasa_Artemis/Jessica_Meir/Astronaut Jessica Meir_s next dream_ To.jpg',\n",
              " '/content/Nasa_Artemis/Jessica_Meir/Astronaut Jessica Meir.jpg',\n",
              " '/content/Nasa_Artemis/Jessica_Meir/File_Jessica Meir portrait in a WB-57.jpg',\n",
              " '/content/Nasa_Artemis/Jessica_Meir/Maine astronaut Jessica Meir could be.jpg',\n",
              " '/content/Nasa_Artemis/Jessica_Meir/Jessica Meir of NASA listens to a.jpg',\n",
              " '/content/Nasa_Artemis/Jessica_Meir/7 Questions for Astronaut Jessica Meir.jpg',\n",
              " '/content/Nasa_Artemis/Jessica_Meir/Jewish-American astronaut Jessica Meir.jpg',\n",
              " '/content/Nasa_Artemis/Jessica_Meir/England Astronaut Jessica Meir Reflects.jpg',\n",
              " '/content/Nasa_Artemis/Jessica_Meir/fearless Jewish astronaut Jessica Meir (2).jpg',\n",
              " '/content/Nasa_Artemis/Jessica_Meir/Astronaut Jessica Meir reflects on (2).jpg',\n",
              " '/content/Nasa_Artemis/Jessica_Meir/Astronaut Jessica Meir Returns Home to (2).jpg',\n",
              " '/content/Nasa_Artemis/Jessica_Meir/NASA Taps Harvard Professor For New.jpg',\n",
              " '/content/Nasa_Artemis/Jessica_Meir/Jewish-Swedish astronaut prepares for.jpg',\n",
              " '/content/Nasa_Artemis/Jessica_Meir/Jessica Meir - Wikipedia (1).jpg',\n",
              " '/content/Nasa_Artemis/Jessica_Meir/Meet NASA astronaut candidate Jessica.webp',\n",
              " '/content/Nasa_Artemis/Jessica_Meir/NASA Astronaut Jessica Meir to Speak at.jpg',\n",
              " '/content/Nasa_Artemis/Jessica_Meir/Commencement Keynote Speaker.jpg',\n",
              " '/content/Nasa_Artemis/Jessica_Meir/American Physiological Society.jpg',\n",
              " '/content/Nasa_Artemis/Jessica_Meir/Astronaut Jessica Meir Returns Home to.jpg',\n",
              " '/content/Nasa_Artemis/Jessica_Meir/historic spacewalk _ Microsoft (1).jpg',\n",
              " '/content/Nasa_Artemis/Jessica_Meir/Jessica U. Meir (PH.D.) NASA Astronaut.jpg',\n",
              " '/content/Nasa_Artemis/Jessica_Meir/Jessica Meir - Wikiquote.jpg',\n",
              " '/content/Nasa_Artemis/Jessica_Meir/NASA astronaut Jessica Meir in her.jpg',\n",
              " '/content/Nasa_Artemis/Jessica_Meir/NASA astronaut Jessica Meir prepares.jpg',\n",
              " '/content/Nasa_Artemis/Jessica_Meir/Jessica Meir talks about her historic.jpg',\n",
              " '/content/Nasa_Artemis/Jessica_Meir/Jessica Meir_ Honorary Doctor of.jpg',\n",
              " '/content/Nasa_Artemis/Jessica_Meir/Professor Named Newest NASA Astronaut.jpg',\n",
              " '/content/Nasa_Artemis/Jessica_Meir/A joyous Jessica Meir returns to Earth.png',\n",
              " '/content/Nasa_Artemis/Jessica_Meir/Jessica Meir - Age_ Family_ Bio.jpg',\n",
              " '/content/Nasa_Artemis/Jessica_Meir/NASA with Astronaut Jessica Meir.jpg',\n",
              " '/content/Nasa_Artemis/Jessica_Meir/TIME for Kids _ Mission Achieved.jpg',\n",
              " '/content/Nasa_Artemis/Jessica_Meir/Jessica Meir aches for return to space.png',\n",
              " '/content/Nasa_Artemis/Jessica_Meir/Christina Koch and Jessica Meir in.jpg',\n",
              " '/content/Nasa_Artemis/Jessica_Meir/NASA astronaut Jessica Meir talks about.png',\n",
              " '/content/Nasa_Artemis/Jessica_Meir/One small step for a physiologist.jpeg',\n",
              " '/content/Nasa_Artemis/Jessica_Meir/NASA astronaut Jessica Meir is pictured.jpg',\n",
              " '/content/Nasa_Artemis/Jessica_Meir/NASA astronauts Jessica Meir_ Christina (1).jpg',\n",
              " '/content/Nasa_Artemis/Jessica_Meir/NASA astronauts Jessica Meir_ Christina.jpg',\n",
              " '/content/Nasa_Artemis/Jessica_Meir/NASA Astronaut Jessica Meir - Seat of.png',\n",
              " '/content/Nasa_Artemis/Jessica_Meir/Swedish-Israeli NASA astronaut gets.jpg',\n",
              " '/content/Nasa_Artemis/Jessica_Meir/Swedish-Israeli NASA Astronaut Jessica.png',\n",
              " '/content/Nasa_Artemis/Jessica_Meir/NASA astronaut Jessica Meir talks.jpg',\n",
              " '/content/Nasa_Artemis/Jessica_Meir/Jessica Meir - Wikipedia.jpg',\n",
              " '/content/Nasa_Artemis/Jessica_Meir/Caribou native Jessica Meir _ cbs19.tv.jpg',\n",
              " '/content/Nasa_Artemis/Jessica_Meir/NASA astronaut Jessica Meir celebrates.jpg',\n",
              " '/content/Nasa_Artemis/Jessica_Meir/Astronaut Jessica Meir reflects on (1).jpg',\n",
              " '/content/Nasa_Artemis/Jessica_Meir/Astronaut Jessica Meir Returns Home to (1).jpg',\n",
              " '/content/Nasa_Artemis/Jessica_Meir/Meet Artemis Team Member Jessica Meir.jpg',\n",
              " '/content/Nasa_Artemis/Jessica_Meir/BOG 2021_ Astronaut Jessica Meir.jpg',\n",
              " '/content/Nasa_Artemis/Jessica_Meir/Christina Koch_ Jessica Meir.jpg',\n",
              " '/content/Nasa_Artemis/Jessica_Meir/Astronaut alumna to chat with Brown.jpg',\n",
              " '/content/Nasa_Artemis/Jessica_Meir/Astronaut Jessica Meir describes.jpg',\n",
              " '/content/Nasa_Artemis/Jessica_Meir/Astronauts Christina Koch_ Jessica Meir.jpg',\n",
              " '/content/Nasa_Artemis/Jessica_Meir/UCSD alum Jessica Meir prepares for.png',\n",
              " '/content/Nasa_Artemis/Jessica_Meir/Multimedia Gallery - Jessica Meir is.jpg',\n",
              " '/content/Nasa_Artemis/Jessica_Meir/International Space Station.jpg',\n",
              " '/content/Nasa_Artemis/Jessica_Meir/Back from space odyssey_ astronaut.jpg',\n",
              " '/content/Nasa_Artemis/Jessica_Meir/NASA Astronaut Available for Last.jpg',\n",
              " '/content/Nasa_Artemis/Jessica_Meir/File_Jessica Meir official portrait in.jpg',\n",
              " '/content/Nasa_Artemis/Jessica_Meir/File_Jessica Meir full length portrait.jpg',\n",
              " '/content/Nasa_Artemis/Jessica_Meir/Spacewalking astronaut Jessica Meir.jpg',\n",
              " '/content/Nasa_Artemis/Jessica_Meir/Jessica Meir (_Astro_Jessica)   Twitter.jpg',\n",
              " '/content/Nasa_Artemis/Jessica_Meir/Maine_s Own Jessica Meir Chronicles Her.jpg',\n",
              " '/content/Nasa_Artemis/Jessica_Meir/Jessica Meir on Twitter_ _The walls of.jpg',\n",
              " '/content/Nasa_Artemis/Jessica_Meir/Maine astronaut Jessica Meir talks (1).jpg',\n",
              " '/content/Nasa_Artemis/Jessica_Meir/Astronaut Biography_ Jessica Meir.jpg',\n",
              " '/content/Nasa_Artemis/Jessica_Meir/Christina Koch and Jessica Meir.jpg',\n",
              " '/content/Nasa_Artemis/Jessica_Meir/Astronaut Jessica Meir - YouTube.jpg']"
            ]
          },
          "metadata": {},
          "execution_count": 18
        }
      ]
    },
    {
      "cell_type": "code",
      "source": [
        "from torchvision.transforms.transforms import RandomCrop\n",
        "import torchvision.transforms as transforms\n",
        "import cv2\n",
        "import numpy as np\n",
        "from tensorflow.keras.utils import to_categorical\n",
        "from itertools import permutations\n",
        "\n",
        "\n",
        "names = [\"Jessica_Meir\", \"Joseph_Acaba\", \"Raja_Chari\", \"Scott_Tingle\"]\n",
        "\n",
        "mapping = {}\n",
        "for x in range(len(names)):\n",
        "  mapping[names[x]] = x\n",
        "\n",
        "\n",
        "for x in range(len(all_image_categories)):\n",
        "  all_image_categories[x] = mapping[all_image_categories[x]]\n",
        "\n",
        "\n",
        "# Prepare augmentation transforms\n",
        "n_transform = 4\n",
        "n_aug = 12\n",
        "\n",
        "augmentation_transforms = []\n",
        "selectable_transforms = [transforms.ColorJitter(brightness=0.5), \n",
        "                         transforms.RandomRotation(degrees=(-45, 45), resample=False, expand=False), \n",
        "                         transforms.RandomHorizontalFlip(p=0.3),\n",
        "                        #  transforms.RandomCrop(size=(170, 170), padding=None),\n",
        "                         transforms.RandomVerticalFlip(p=0.3),\n",
        "                          transforms.RandomGrayscale(p=0.4),\n",
        "                          # transforms.Pad(0.2),\n",
        "                          transforms.RandomPerspective(distortion_scale=0.5,p=0.5)]\n",
        "\n",
        "intial_transforms = [transforms.ToPILImage(),transforms.Resize((224,224))]\n",
        "final_transforms = [transforms.ToTensor(), transforms.Normalize(mean=[0.485, 0.456, 0.406], std=[0.229, 0.224, 0.225])]\n",
        "\n",
        "for i in range(n_aug):\n",
        "  perm = list(np.random.permutation(len(selectable_transforms))[:n_transform])\n",
        "  inner_random_transforms = [selectable_transforms[i] for i in perm]\n",
        "  augmentation_transforms.append(transforms.Compose(intial_transforms + inner_random_transforms + final_transforms))\n",
        "\n",
        "nonaugmentation_transforms = transforms.Compose(intial_transforms + final_transforms)"
      ],
      "metadata": {
        "colab": {
          "base_uri": "https://localhost:8080/"
        },
        "id": "zoTP3gcY0lNf",
        "outputId": "ddc32c71-a395-41e4-8f2b-467110181ecc"
      },
      "execution_count": null,
      "outputs": [
        {
          "output_type": "stream",
          "name": "stderr",
          "text": [
            "/usr/local/lib/python3.7/dist-packages/torchvision/transforms/transforms.py:1298: UserWarning: The parameter 'resample' is deprecated since 0.12 and will be removed 0.14. Please use 'interpolation' instead.\n",
            "  \"The parameter 'resample' is deprecated since 0.12 and will be removed 0.14. \"\n"
          ]
        }
      ]
    },
    {
      "cell_type": "code",
      "source": [
        "from sklearn.model_selection import train_test_split\n",
        "\n",
        "X_train, X_other, y_train, y_other = train_test_split(all_image_urls, all_image_categories, test_size=0.2, random_state=42)\n",
        "\n",
        "X_valid, X_test, y_valid, y_test = train_test_split(X_other, y_other, test_size=0.5, random_state=42)"
      ],
      "metadata": {
        "id": "Y_5fChii0o4o"
      },
      "execution_count": null,
      "outputs": []
    },
    {
      "cell_type": "code",
      "source": [
        "def load_data(urls,categories,transforms = None):\n",
        "  X_list = []\n",
        "  y_list = []\n",
        "\n",
        "  for idx,url in enumerate(urls):\n",
        "\n",
        "    img = cv2.imread(url)\n",
        "    img = cv2.cvtColor(img, cv2.COLOR_BGR2RGB)\n",
        "    for transform in transforms:\n",
        "      X_list.append(transform(img))\n",
        "      y_list.append(categories[idx])\n",
        "\n",
        "  return X_list,y_list\n",
        "\n",
        "\n",
        "\n",
        "\n",
        "# load_data(X_train,augmentation_transforms)\n",
        "X_train, y_train = load_data(X_train,y_train,augmentation_transforms)\n",
        "X_valid, y_valid = load_data(X_valid,y_valid,[nonaugmentation_transforms])\n",
        "X_test, y_test = load_data(X_test,y_test,[nonaugmentation_transforms])"
      ],
      "metadata": {
        "id": "rB3d9YRw0rAo"
      },
      "execution_count": null,
      "outputs": []
    },
    {
      "cell_type": "code",
      "source": [
        "print(len(X_train))\n",
        "print(len(X_valid))\n",
        "print(len(X_test))"
      ],
      "metadata": {
        "colab": {
          "base_uri": "https://localhost:8080/"
        },
        "id": "nhRqbiEs07G1",
        "outputId": "0fa73f22-3dc5-4dbc-cd34-32481f96b8da"
      },
      "execution_count": null,
      "outputs": [
        {
          "output_type": "stream",
          "name": "stdout",
          "text": [
            "2856\n",
            "30\n",
            "30\n"
          ]
        }
      ]
    },
    {
      "cell_type": "code",
      "source": [
        "import torch as nn\n",
        "from torch.utils.data import DataLoader\n",
        "class MyDataset(nn.utils.data.Dataset):\n",
        "    def __init__(self, img_list,target_list, augmentations = None):\n",
        "        self.img_list = img_list\n",
        "        self.target_list = target_list\n",
        "        self.augmentations = augmentations\n",
        "\n",
        "    def __len__(self):\n",
        "        return len(self.img_list)\n",
        "\n",
        "    def __getitem__(self, idx):\n",
        "        img = self.img_list[idx]\n",
        "        target = torch.LongTensor([self.target_list[idx]])\n",
        "        return img,target\n",
        "\n",
        "\n",
        "train_dataset = MyDataset(X_train,y_train)\n",
        "test_dataset = MyDataset(X_test,y_test)\n",
        "valid_dataset = MyDataset(X_valid,y_valid)\n",
        "\n",
        "batch_size = 16\n",
        "train_dl = DataLoader(train_dataset, batch_size=batch_size,shuffle= True)\n",
        "test_dl = DataLoader(test_dataset, batch_size=batch_size,shuffle= False) # Dont need shuffle for the test data\n",
        "valid_dl = DataLoader(valid_dataset, batch_size=batch_size,shuffle= False) # Dont need shuffle for the valid data"
      ],
      "metadata": {
        "id": "XzfjpAdj1Frj"
      },
      "execution_count": null,
      "outputs": []
    },
    {
      "cell_type": "code",
      "source": [
        "import torch\n",
        "import torch.nn as nn\n",
        "import torch.nn.functional as F\n",
        "from torch.utils.data import DataLoader\n",
        "from torchvision import datasets, transforms, models # add models to the list\n",
        "from torchvision.utils import make_grid\n",
        "import os\n",
        "\n",
        "import numpy as np\n",
        "import pandas as pd\n",
        "import matplotlib.pyplot as plt\n",
        "%matplotlib inline\n",
        "\n",
        "# ignore harmless warnings\n",
        "import warnings\n",
        "warnings.filterwarnings(\"ignore\")"
      ],
      "metadata": {
        "id": "vEcORrYS1YuB"
      },
      "execution_count": null,
      "outputs": []
    },
    {
      "cell_type": "code",
      "source": [
        "import torchvision.models as models\n",
        "model = models.resnet18(pretrained=True)\n",
        "model"
      ],
      "metadata": {
        "colab": {
          "base_uri": "https://localhost:8080/"
        },
        "id": "svKbNWaS1Grv",
        "outputId": "c6e112d1-1af2-44a4-f09d-3b313e8ca8ff"
      },
      "execution_count": null,
      "outputs": [
        {
          "output_type": "execute_result",
          "data": {
            "text/plain": [
              "ResNet(\n",
              "  (conv1): Conv2d(3, 64, kernel_size=(7, 7), stride=(2, 2), padding=(3, 3), bias=False)\n",
              "  (bn1): BatchNorm2d(64, eps=1e-05, momentum=0.1, affine=True, track_running_stats=True)\n",
              "  (relu): ReLU(inplace=True)\n",
              "  (maxpool): MaxPool2d(kernel_size=3, stride=2, padding=1, dilation=1, ceil_mode=False)\n",
              "  (layer1): Sequential(\n",
              "    (0): BasicBlock(\n",
              "      (conv1): Conv2d(64, 64, kernel_size=(3, 3), stride=(1, 1), padding=(1, 1), bias=False)\n",
              "      (bn1): BatchNorm2d(64, eps=1e-05, momentum=0.1, affine=True, track_running_stats=True)\n",
              "      (relu): ReLU(inplace=True)\n",
              "      (conv2): Conv2d(64, 64, kernel_size=(3, 3), stride=(1, 1), padding=(1, 1), bias=False)\n",
              "      (bn2): BatchNorm2d(64, eps=1e-05, momentum=0.1, affine=True, track_running_stats=True)\n",
              "    )\n",
              "    (1): BasicBlock(\n",
              "      (conv1): Conv2d(64, 64, kernel_size=(3, 3), stride=(1, 1), padding=(1, 1), bias=False)\n",
              "      (bn1): BatchNorm2d(64, eps=1e-05, momentum=0.1, affine=True, track_running_stats=True)\n",
              "      (relu): ReLU(inplace=True)\n",
              "      (conv2): Conv2d(64, 64, kernel_size=(3, 3), stride=(1, 1), padding=(1, 1), bias=False)\n",
              "      (bn2): BatchNorm2d(64, eps=1e-05, momentum=0.1, affine=True, track_running_stats=True)\n",
              "    )\n",
              "  )\n",
              "  (layer2): Sequential(\n",
              "    (0): BasicBlock(\n",
              "      (conv1): Conv2d(64, 128, kernel_size=(3, 3), stride=(2, 2), padding=(1, 1), bias=False)\n",
              "      (bn1): BatchNorm2d(128, eps=1e-05, momentum=0.1, affine=True, track_running_stats=True)\n",
              "      (relu): ReLU(inplace=True)\n",
              "      (conv2): Conv2d(128, 128, kernel_size=(3, 3), stride=(1, 1), padding=(1, 1), bias=False)\n",
              "      (bn2): BatchNorm2d(128, eps=1e-05, momentum=0.1, affine=True, track_running_stats=True)\n",
              "      (downsample): Sequential(\n",
              "        (0): Conv2d(64, 128, kernel_size=(1, 1), stride=(2, 2), bias=False)\n",
              "        (1): BatchNorm2d(128, eps=1e-05, momentum=0.1, affine=True, track_running_stats=True)\n",
              "      )\n",
              "    )\n",
              "    (1): BasicBlock(\n",
              "      (conv1): Conv2d(128, 128, kernel_size=(3, 3), stride=(1, 1), padding=(1, 1), bias=False)\n",
              "      (bn1): BatchNorm2d(128, eps=1e-05, momentum=0.1, affine=True, track_running_stats=True)\n",
              "      (relu): ReLU(inplace=True)\n",
              "      (conv2): Conv2d(128, 128, kernel_size=(3, 3), stride=(1, 1), padding=(1, 1), bias=False)\n",
              "      (bn2): BatchNorm2d(128, eps=1e-05, momentum=0.1, affine=True, track_running_stats=True)\n",
              "    )\n",
              "  )\n",
              "  (layer3): Sequential(\n",
              "    (0): BasicBlock(\n",
              "      (conv1): Conv2d(128, 256, kernel_size=(3, 3), stride=(2, 2), padding=(1, 1), bias=False)\n",
              "      (bn1): BatchNorm2d(256, eps=1e-05, momentum=0.1, affine=True, track_running_stats=True)\n",
              "      (relu): ReLU(inplace=True)\n",
              "      (conv2): Conv2d(256, 256, kernel_size=(3, 3), stride=(1, 1), padding=(1, 1), bias=False)\n",
              "      (bn2): BatchNorm2d(256, eps=1e-05, momentum=0.1, affine=True, track_running_stats=True)\n",
              "      (downsample): Sequential(\n",
              "        (0): Conv2d(128, 256, kernel_size=(1, 1), stride=(2, 2), bias=False)\n",
              "        (1): BatchNorm2d(256, eps=1e-05, momentum=0.1, affine=True, track_running_stats=True)\n",
              "      )\n",
              "    )\n",
              "    (1): BasicBlock(\n",
              "      (conv1): Conv2d(256, 256, kernel_size=(3, 3), stride=(1, 1), padding=(1, 1), bias=False)\n",
              "      (bn1): BatchNorm2d(256, eps=1e-05, momentum=0.1, affine=True, track_running_stats=True)\n",
              "      (relu): ReLU(inplace=True)\n",
              "      (conv2): Conv2d(256, 256, kernel_size=(3, 3), stride=(1, 1), padding=(1, 1), bias=False)\n",
              "      (bn2): BatchNorm2d(256, eps=1e-05, momentum=0.1, affine=True, track_running_stats=True)\n",
              "    )\n",
              "  )\n",
              "  (layer4): Sequential(\n",
              "    (0): BasicBlock(\n",
              "      (conv1): Conv2d(256, 512, kernel_size=(3, 3), stride=(2, 2), padding=(1, 1), bias=False)\n",
              "      (bn1): BatchNorm2d(512, eps=1e-05, momentum=0.1, affine=True, track_running_stats=True)\n",
              "      (relu): ReLU(inplace=True)\n",
              "      (conv2): Conv2d(512, 512, kernel_size=(3, 3), stride=(1, 1), padding=(1, 1), bias=False)\n",
              "      (bn2): BatchNorm2d(512, eps=1e-05, momentum=0.1, affine=True, track_running_stats=True)\n",
              "      (downsample): Sequential(\n",
              "        (0): Conv2d(256, 512, kernel_size=(1, 1), stride=(2, 2), bias=False)\n",
              "        (1): BatchNorm2d(512, eps=1e-05, momentum=0.1, affine=True, track_running_stats=True)\n",
              "      )\n",
              "    )\n",
              "    (1): BasicBlock(\n",
              "      (conv1): Conv2d(512, 512, kernel_size=(3, 3), stride=(1, 1), padding=(1, 1), bias=False)\n",
              "      (bn1): BatchNorm2d(512, eps=1e-05, momentum=0.1, affine=True, track_running_stats=True)\n",
              "      (relu): ReLU(inplace=True)\n",
              "      (conv2): Conv2d(512, 512, kernel_size=(3, 3), stride=(1, 1), padding=(1, 1), bias=False)\n",
              "      (bn2): BatchNorm2d(512, eps=1e-05, momentum=0.1, affine=True, track_running_stats=True)\n",
              "    )\n",
              "  )\n",
              "  (avgpool): AdaptiveAvgPool2d(output_size=(1, 1))\n",
              "  (fc): Linear(in_features=512, out_features=1000, bias=True)\n",
              ")"
            ]
          },
          "metadata": {},
          "execution_count": 70
        }
      ]
    },
    {
      "cell_type": "code",
      "source": [
        "for param in model.parameters():\n",
        "    param.requires_grad = True"
      ],
      "metadata": {
        "id": "7hQsYQRc1OaQ"
      },
      "execution_count": null,
      "outputs": []
    },
    {
      "cell_type": "code",
      "source": [
        "import torch\n",
        "torch.manual_seed(42)\n",
        "model.classifier = nn.Sequential(nn.Linear(512, 256),\n",
        "                                 nn.ReLU(),\n",
        "                                 nn.Dropout(0.4),\n",
        "                                 nn.Linear(128, 4),\n",
        "                                 nn.LogSoftmax(dim=1))\n",
        "model"
      ],
      "metadata": {
        "colab": {
          "base_uri": "https://localhost:8080/"
        },
        "id": "-jt46quA1UMi",
        "outputId": "d34da7eb-3d63-45ad-8a05-dd2aca43b9b0"
      },
      "execution_count": null,
      "outputs": [
        {
          "output_type": "execute_result",
          "data": {
            "text/plain": [
              "ResNet(\n",
              "  (conv1): Conv2d(3, 64, kernel_size=(7, 7), stride=(2, 2), padding=(3, 3), bias=False)\n",
              "  (bn1): BatchNorm2d(64, eps=1e-05, momentum=0.1, affine=True, track_running_stats=True)\n",
              "  (relu): ReLU(inplace=True)\n",
              "  (maxpool): MaxPool2d(kernel_size=3, stride=2, padding=1, dilation=1, ceil_mode=False)\n",
              "  (layer1): Sequential(\n",
              "    (0): BasicBlock(\n",
              "      (conv1): Conv2d(64, 64, kernel_size=(3, 3), stride=(1, 1), padding=(1, 1), bias=False)\n",
              "      (bn1): BatchNorm2d(64, eps=1e-05, momentum=0.1, affine=True, track_running_stats=True)\n",
              "      (relu): ReLU(inplace=True)\n",
              "      (conv2): Conv2d(64, 64, kernel_size=(3, 3), stride=(1, 1), padding=(1, 1), bias=False)\n",
              "      (bn2): BatchNorm2d(64, eps=1e-05, momentum=0.1, affine=True, track_running_stats=True)\n",
              "    )\n",
              "    (1): BasicBlock(\n",
              "      (conv1): Conv2d(64, 64, kernel_size=(3, 3), stride=(1, 1), padding=(1, 1), bias=False)\n",
              "      (bn1): BatchNorm2d(64, eps=1e-05, momentum=0.1, affine=True, track_running_stats=True)\n",
              "      (relu): ReLU(inplace=True)\n",
              "      (conv2): Conv2d(64, 64, kernel_size=(3, 3), stride=(1, 1), padding=(1, 1), bias=False)\n",
              "      (bn2): BatchNorm2d(64, eps=1e-05, momentum=0.1, affine=True, track_running_stats=True)\n",
              "    )\n",
              "  )\n",
              "  (layer2): Sequential(\n",
              "    (0): BasicBlock(\n",
              "      (conv1): Conv2d(64, 128, kernel_size=(3, 3), stride=(2, 2), padding=(1, 1), bias=False)\n",
              "      (bn1): BatchNorm2d(128, eps=1e-05, momentum=0.1, affine=True, track_running_stats=True)\n",
              "      (relu): ReLU(inplace=True)\n",
              "      (conv2): Conv2d(128, 128, kernel_size=(3, 3), stride=(1, 1), padding=(1, 1), bias=False)\n",
              "      (bn2): BatchNorm2d(128, eps=1e-05, momentum=0.1, affine=True, track_running_stats=True)\n",
              "      (downsample): Sequential(\n",
              "        (0): Conv2d(64, 128, kernel_size=(1, 1), stride=(2, 2), bias=False)\n",
              "        (1): BatchNorm2d(128, eps=1e-05, momentum=0.1, affine=True, track_running_stats=True)\n",
              "      )\n",
              "    )\n",
              "    (1): BasicBlock(\n",
              "      (conv1): Conv2d(128, 128, kernel_size=(3, 3), stride=(1, 1), padding=(1, 1), bias=False)\n",
              "      (bn1): BatchNorm2d(128, eps=1e-05, momentum=0.1, affine=True, track_running_stats=True)\n",
              "      (relu): ReLU(inplace=True)\n",
              "      (conv2): Conv2d(128, 128, kernel_size=(3, 3), stride=(1, 1), padding=(1, 1), bias=False)\n",
              "      (bn2): BatchNorm2d(128, eps=1e-05, momentum=0.1, affine=True, track_running_stats=True)\n",
              "    )\n",
              "  )\n",
              "  (layer3): Sequential(\n",
              "    (0): BasicBlock(\n",
              "      (conv1): Conv2d(128, 256, kernel_size=(3, 3), stride=(2, 2), padding=(1, 1), bias=False)\n",
              "      (bn1): BatchNorm2d(256, eps=1e-05, momentum=0.1, affine=True, track_running_stats=True)\n",
              "      (relu): ReLU(inplace=True)\n",
              "      (conv2): Conv2d(256, 256, kernel_size=(3, 3), stride=(1, 1), padding=(1, 1), bias=False)\n",
              "      (bn2): BatchNorm2d(256, eps=1e-05, momentum=0.1, affine=True, track_running_stats=True)\n",
              "      (downsample): Sequential(\n",
              "        (0): Conv2d(128, 256, kernel_size=(1, 1), stride=(2, 2), bias=False)\n",
              "        (1): BatchNorm2d(256, eps=1e-05, momentum=0.1, affine=True, track_running_stats=True)\n",
              "      )\n",
              "    )\n",
              "    (1): BasicBlock(\n",
              "      (conv1): Conv2d(256, 256, kernel_size=(3, 3), stride=(1, 1), padding=(1, 1), bias=False)\n",
              "      (bn1): BatchNorm2d(256, eps=1e-05, momentum=0.1, affine=True, track_running_stats=True)\n",
              "      (relu): ReLU(inplace=True)\n",
              "      (conv2): Conv2d(256, 256, kernel_size=(3, 3), stride=(1, 1), padding=(1, 1), bias=False)\n",
              "      (bn2): BatchNorm2d(256, eps=1e-05, momentum=0.1, affine=True, track_running_stats=True)\n",
              "    )\n",
              "  )\n",
              "  (layer4): Sequential(\n",
              "    (0): BasicBlock(\n",
              "      (conv1): Conv2d(256, 512, kernel_size=(3, 3), stride=(2, 2), padding=(1, 1), bias=False)\n",
              "      (bn1): BatchNorm2d(512, eps=1e-05, momentum=0.1, affine=True, track_running_stats=True)\n",
              "      (relu): ReLU(inplace=True)\n",
              "      (conv2): Conv2d(512, 512, kernel_size=(3, 3), stride=(1, 1), padding=(1, 1), bias=False)\n",
              "      (bn2): BatchNorm2d(512, eps=1e-05, momentum=0.1, affine=True, track_running_stats=True)\n",
              "      (downsample): Sequential(\n",
              "        (0): Conv2d(256, 512, kernel_size=(1, 1), stride=(2, 2), bias=False)\n",
              "        (1): BatchNorm2d(512, eps=1e-05, momentum=0.1, affine=True, track_running_stats=True)\n",
              "      )\n",
              "    )\n",
              "    (1): BasicBlock(\n",
              "      (conv1): Conv2d(512, 512, kernel_size=(3, 3), stride=(1, 1), padding=(1, 1), bias=False)\n",
              "      (bn1): BatchNorm2d(512, eps=1e-05, momentum=0.1, affine=True, track_running_stats=True)\n",
              "      (relu): ReLU(inplace=True)\n",
              "      (conv2): Conv2d(512, 512, kernel_size=(3, 3), stride=(1, 1), padding=(1, 1), bias=False)\n",
              "      (bn2): BatchNorm2d(512, eps=1e-05, momentum=0.1, affine=True, track_running_stats=True)\n",
              "    )\n",
              "  )\n",
              "  (avgpool): AdaptiveAvgPool2d(output_size=(1, 1))\n",
              "  (fc): Linear(in_features=512, out_features=1000, bias=True)\n",
              "  (classifier): Sequential(\n",
              "    (0): Linear(in_features=512, out_features=256, bias=True)\n",
              "    (1): ReLU()\n",
              "    (2): Dropout(p=0.4, inplace=False)\n",
              "    (3): Linear(in_features=128, out_features=4, bias=True)\n",
              "    (4): LogSoftmax(dim=1)\n",
              "  )\n",
              ")"
            ]
          },
          "metadata": {},
          "execution_count": 72
        }
      ]
    },
    {
      "cell_type": "code",
      "source": [
        "import torchvision.models as models\n",
        "import torch.optim as optim\n",
        "from torch import nn\n",
        "import torch\n",
        "from sklearn.metrics import accuracy_score\n",
        "import matplotlib.pyplot as plt\n",
        "from statistics import mean\n",
        "from google.colab import output as colab_output\n",
        "\n",
        "\n",
        "optimizer = optim.Adam(model.parameters(), lr=0.001)\n",
        "\n",
        "\n",
        "loss_function = nn.CrossEntropyLoss()\n",
        "\n",
        "n_epoch = 10\n",
        " \n",
        "\n",
        "\n",
        "use_cuda = torch.cuda.is_available()                   # check if GPU exists\n",
        "device = torch.device(\"cuda\" if use_cuda else \"cpu\")   # use CPU or GPU\n",
        "\n",
        "train_accuracy = []\n",
        "valid_accuracy = []\n",
        "\n",
        "train_loss = []\n",
        "valid_loss = []\n",
        "\n",
        "n_batches = int(len(train_dataset) / batch_size)\n",
        "print('Starting Train using device:{}'.format(device))\n",
        "\n",
        "# append_dropout(model)\n",
        "model.to(device)\n",
        "for epoch in range(n_epoch):\n",
        "  # 1. Train Phase\n",
        "  model.train()\n",
        "  train_batch_accuracy = []\n",
        "  train_batch_loss = []\n",
        "  for idx, (X,y) in enumerate(train_dl):\n",
        "    X = X.to(device)\n",
        "    y = y.to(device).view(-1,)\n",
        "    optimizer.zero_grad()\n",
        "    output = model(X)\n",
        "    y_pred = torch.max(output,1)[1]\n",
        "    train_batch_score = accuracy_score(y.cpu().data.squeeze().numpy(), y_pred.cpu().data.squeeze().numpy())\n",
        "    train_batch_accuracy.append(train_batch_score)\n",
        "\n",
        "\n",
        "    loss = loss_function(output,y)\n",
        "    train_batch_loss.append(loss.item())\n",
        "\n",
        "    loss.backward()\n",
        "    optimizer.step()\n",
        "\n",
        "  train_accuracy.append(mean(train_batch_accuracy))\n",
        "  train_loss.append(mean(train_batch_loss))\n",
        "    # print('Epoch:{} Batch:{}/{} Train Loss:{}  Train Accuracy:{}'.format(epoch,idx,n_batches,loss.item(),batch_score))\n",
        "  # 2. Validation Phase\n",
        "  model.eval()\n",
        "  with torch.no_grad():\n",
        "    Valid_batch_accuracy = []\n",
        "    Valid_batch_loss = []\n",
        "    for idx, (X,y) in enumerate(valid_dl):\n",
        "      X = X.to(device)\n",
        "      y = y.to(device).view(-1,)\n",
        "      output = model(X)\n",
        "      y_pred = torch.max(output,1)[1]\n",
        "\n",
        "      \n",
        "      # print(idx)\n",
        "      # print(y)\n",
        "      # print(y_pred)\n",
        "      valid_batch_score = accuracy_score(y.cpu().data.squeeze().numpy(), y_pred.cpu().data.squeeze().numpy())\n",
        "      Valid_batch_accuracy.append(valid_batch_score)\n",
        "\n",
        "      loss = loss_function(output,y)\n",
        "      Valid_batch_loss.append(loss.item())\n",
        "\n",
        "    valid_accuracy.append(mean(Valid_batch_accuracy))\n",
        "    valid_loss.append(mean(Valid_batch_loss))\n",
        "  # 3. Showing Reports\n",
        "  \n",
        "  colab_output.clear()\n",
        "  plt.plot(list(range(1,epoch+2)),train_accuracy)\n",
        "  plt.plot(list(range(1,epoch+2)),valid_accuracy)\n",
        "\n",
        "  plt.legend(['Train','Validation'])\n",
        "  plt.title('Accuracy Score')\n",
        "  plt.ylim([0,1])\n",
        "  plt.xlabel('Epoch')\n",
        "  plt.show()\n",
        "\n",
        "  \n",
        "  plt.plot(list(range(1,epoch+2)),train_loss)\n",
        "  plt.plot(list(range(1,epoch+2)),valid_loss)\n",
        "\n",
        "  plt.legend(['Train','Validation'])\n",
        "  plt.title('Loss')\n",
        "  plt.ylim([0,4])\n",
        "  plt.xlabel('Epoch')\n",
        "  plt.show()"
      ],
      "metadata": {
        "colab": {
          "base_uri": "https://localhost:8080/",
          "height": 573
        },
        "id": "EHkwkpDr1ai1",
        "outputId": "b3cb5ab9-e491-4e6b-a677-e1cd5d2fb9d5"
      },
      "execution_count": null,
      "outputs": [
        {
          "output_type": "display_data",
          "data": {
            "text/plain": [
              "<Figure size 432x288 with 1 Axes>"
            ],
            "image/png": "[encoded data removed]"
          },
          "metadata": {
            "needs_background": "light"
          }
        },
        {
          "output_type": "display_data",
          "data": {
            "text/plain": [
              "<Figure size 432x288 with 1 Axes>"
            ],
            "image/png": "[encoded data removed]"
          },
          "metadata": {
            "needs_background": "light"
          }
        }
      ]
    },
    {
      "cell_type": "code",
      "source": [
        "import math \n",
        "model.eval()\n",
        "with torch.no_grad():\n",
        "  Test_batch_accuracy = []\n",
        "  for idx, (X,y) in enumerate(test_dl):\n",
        "    X = X.to(device)\n",
        "    y = y.to(device).view(-1,)\n",
        "    output = model(X)\n",
        "    y_pred = torch.max(output,1)[1]\n",
        "\n",
        "\n",
        "    Test_batch_score = accuracy_score(y.cpu().data.squeeze().numpy(), y_pred.cpu().data.squeeze().numpy())\n",
        "    Test_batch_accuracy.append(Test_batch_score)\n",
        "\n",
        "\n",
        "\n",
        "  Test_accuracy = mean(Test_batch_accuracy)\n",
        "\n",
        "print('Model accuracy on test data: {}%'.format(np.round(Test_accuracy * 100,3)))"
      ],
      "metadata": {
        "colab": {
          "base_uri": "https://localhost:8080/"
        },
        "id": "10yxhund15lU",
        "outputId": "573808b1-3a82-4c17-bc8a-81561ff6bd2b"
      },
      "execution_count": null,
      "outputs": [
        {
          "output_type": "stream",
          "name": "stdout",
          "text": [
            "Model accuracy on test data: 66.518%\n"
          ]
        }
      ]
    },
    {
      "cell_type": "code",
      "source": [
        "img_1 = X_test[24].to(device)\n",
        "img_1.unsqueeze_(0)\n",
        "output = model(img_1)\n",
        "labels = torch.argmax(output, 1)\n",
        "# output|\n",
        "\n",
        "\n",
        "print(labels)\n",
        "names"
      ],
      "metadata": {
        "colab": {
          "base_uri": "https://localhost:8080/"
        },
        "id": "xkErPxO00qdy",
        "outputId": "391c837e-2bdb-4ab3-9e0c-cae0bcf06df9"
      },
      "execution_count": null,
      "outputs": [
        {
          "output_type": "stream",
          "name": "stdout",
          "text": [
            "tensor([2], device='cuda:0')\n"
          ]
        },
        {
          "output_type": "execute_result",
          "data": {
            "text/plain": [
              "['Jessica_Meir', 'Joseph_Acaba', 'Raja_Chari', 'Scott_Tingle']"
            ]
          },
          "metadata": {},
          "execution_count": 75
        }
      ]
    },
    {
      "cell_type": "code",
      "source": [
        "import PIL\n",
        "import torchvision.transforms as T\n",
        "\n",
        "# X_test[1].shape\n",
        "\n",
        "plt.imshow(X_test[24].numpy()[0])"
      ],
      "metadata": {
        "colab": {
          "base_uri": "https://localhost:8080/",
          "height": 287
        },
        "id": "59EuczjJ05Y-",
        "outputId": "dc2dd00e-b293-47df-c567-47fa47e1f32e"
      },
      "execution_count": null,
      "outputs": [
        {
          "output_type": "execute_result",
          "data": {
            "text/plain": [
              "<matplotlib.image.AxesImage at 0x7f555a05e390>"
            ]
          },
          "metadata": {},
          "execution_count": 52
        },
        {
          "output_type": "display_data",
          "data": {
            "text/plain": [
              "<Figure size 432x288 with 1 Axes>"
            ],
            "image/png": "[encoded data removed]"
          },
          "metadata": {
            "needs_background": "light"
          }
        }
      ]
    },
    {
      "cell_type": "code",
      "source": [
        "import cv2\n",
        "from torchvision import datasets, transforms, models\n",
        "url = '/content/images.jpeg'\n",
        "img = cv2.imread(url)\n",
        "img = cv2.cvtColor(img, cv2.COLOR_BGR2RGB)\n",
        "\n",
        "# img.unsqueeze_(0)\n",
        "test_transform = transforms.Compose([\n",
        "        transforms.ToPILImage(),\n",
        "        transforms.Resize(224),\n",
        "        transforms.CenterCrop(224),\n",
        "        transforms.ToTensor(),\n",
        "        transforms.Normalize([0.485, 0.456, 0.406],\n",
        "                             [0.229, 0.224, 0.225])\n",
        "    ])\n",
        "\n",
        "img = test_transform(img)\n",
        "img.unsqueeze_(0)\n",
        "output = model(img.to(device))\n",
        "\n",
        "labels = torch.argmax(output, 1)\n",
        "# # output|\n",
        "\n",
        "\n",
        "print(labels)\n",
        "names"
      ],
      "metadata": {
        "colab": {
          "base_uri": "https://localhost:8080/"
        },
        "id": "d89CfD6lPpiH",
        "outputId": "69c9eaaa-8f0c-4613-db3a-9b9f351ac4ac"
      },
      "execution_count": null,
      "outputs": [
        {
          "output_type": "stream",
          "name": "stdout",
          "text": [
            "tensor([3], device='cuda:0')\n"
          ]
        },
        {
          "output_type": "execute_result",
          "data": {
            "text/plain": [
              "['Jessica_Meir', 'Joseph_Acaba', 'Raja_Chari', 'Scott_Tingle']"
            ]
          },
          "metadata": {},
          "execution_count": 58
        }
      ]
    },
    {
      "cell_type": "code",
      "source": [
        "torch.save(model, '/content/drive/MyDrive/Astro_trained_77%.pth')\n"
      ],
      "metadata": {
        "id": "izy_tmThxD2x"
      },
      "execution_count": null,
      "outputs": []
    },
    {
      "cell_type": "code",
      "source": [
        "new_model = torch.load('/content/drive/MyDrive/Astro_trained_77%.pth')"
      ],
      "metadata": {
        "id": "fGS82NP5XEbz"
      },
      "execution_count": null,
      "outputs": []
    },
    {
      "cell_type": "code",
      "source": [
        "import cv2\n",
        "from torchvision import datasets, transforms, models\n",
        "url = '/content/images.jpeg'\n",
        "img = cv2.imread(url)\n",
        "img = cv2.cvtColor(img, cv2.COLOR_BGR2RGB)\n",
        "\n",
        "# img.unsqueeze_(0)\n",
        "test_transform = transforms.Compose([\n",
        "        transforms.ToPILImage(),\n",
        "        transforms.Resize(224),\n",
        "        transforms.CenterCrop(224),\n",
        "        transforms.ToTensor(),\n",
        "        transforms.Normalize([0.485, 0.456, 0.406],\n",
        "                             [0.229, 0.224, 0.225])\n",
        "    ])\n",
        "\n",
        "img = test_transform(img)\n",
        "img.unsqueeze_(0)\n",
        "output = new_model(img.to(device))\n",
        "\n",
        "labels = torch.argmax(output, 1)\n",
        "# # output|\n",
        "\n",
        "\n",
        "print(labels)\n",
        "names"
      ],
      "metadata": {
        "colab": {
          "base_uri": "https://localhost:8080/"
        },
        "id": "x7TMDtEoXPb4",
        "outputId": "38a88d2a-bd31-4652-d2c2-5d1fdf7705fc"
      },
      "execution_count": null,
      "outputs": [
        {
          "output_type": "stream",
          "name": "stdout",
          "text": [
            "tensor([3], device='cuda:0')\n"
          ]
        },
        {
          "output_type": "execute_result",
          "data": {
            "text/plain": [
              "['Jessica_Meir', 'Joseph_Acaba', 'Raja_Chari', 'Scott_Tingle']"
            ]
          },
          "metadata": {},
          "execution_count": 64
        }
      ]
    }
  ]
}